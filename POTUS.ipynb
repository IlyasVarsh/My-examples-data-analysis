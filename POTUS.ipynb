{
 "cells": [
  {
   "cell_type": "code",
   "execution_count": 2,
   "metadata": {},
   "outputs": [
    {
     "name": "stdout",
     "output_type": "stream",
     "text": [
      "<class 'pandas.core.frame.DataFrame'>\n",
      "RangeIndex: 1001731 entries, 0 to 1001730\n",
      "Data columns (total 16 columns):\n",
      " #   Column             Non-Null Count    Dtype  \n",
      "---  ------             --------------    -----  \n",
      " 0   cmte_id            1001731 non-null  object \n",
      " 1   cand_id            1001731 non-null  object \n",
      " 2   cand_nm            1001731 non-null  object \n",
      " 3   contbr_nm          1001731 non-null  object \n",
      " 4   contbr_city        1001712 non-null  object \n",
      " 5   contbr_st          1001727 non-null  object \n",
      " 6   contbr_zip         1001620 non-null  object \n",
      " 7   contbr_employer    988002 non-null   object \n",
      " 8   contbr_occupation  993301 non-null   object \n",
      " 9   contb_receipt_amt  1001731 non-null  float64\n",
      " 10  contb_receipt_dt   1001731 non-null  object \n",
      " 11  receipt_desc       14166 non-null    object \n",
      " 12  memo_cd            92482 non-null    object \n",
      " 13  memo_text          97770 non-null    object \n",
      " 14  form_tp            1001731 non-null  object \n",
      " 15  file_num           1001731 non-null  int64  \n",
      "dtypes: float64(1), int64(1), object(14)\n",
      "memory usage: 122.3+ MB\n",
      "None\n"
     ]
    }
   ],
   "source": [
    "# База данных федеральной избирательной комиссии\n",
    "import pandas as pd\n",
    "fec=pd.read_csv(r'datasets/fec/P00000001-ALL.csv', low_memory=False)\n",
    "print(fec.info())"
   ]
  },
  {
   "cell_type": "code",
   "execution_count": 3,
   "metadata": {},
   "outputs": [
    {
     "name": "stdout",
     "output_type": "stream",
     "text": [
      "cmte_id                             C00431445\n",
      "cand_id                             P80003338\n",
      "cand_nm                         Obama, Barack\n",
      "contbr_nm                         ELLMAN, IRA\n",
      "contbr_city                             TEMPE\n",
      "contbr_st                                  AZ\n",
      "contbr_zip                          852816719\n",
      "contbr_employer      ARIZONA STATE UNIVERSITY\n",
      "contbr_occupation                   PROFESSOR\n",
      "contb_receipt_amt                          50\n",
      "contb_receipt_dt                    01-DEC-11\n",
      "receipt_desc                              NaN\n",
      "memo_cd                                   NaN\n",
      "memo_text                                 NaN\n",
      "form_tp                                 SA17A\n",
      "file_num                               772372\n",
      "Name: 123456, dtype: object\n"
     ]
    }
   ],
   "source": [
    "print(fec.loc[123456])"
   ]
  },
  {
   "cell_type": "code",
   "execution_count": 4,
   "metadata": {},
   "outputs": [
    {
     "name": "stdout",
     "output_type": "stream",
     "text": [
      "['Bachmann, Michelle' 'Romney, Mitt' 'Obama, Barack'\n",
      " \"Roemer, Charles E. 'Buddy' III\" 'Pawlenty, Timothy' 'Johnson, Gary Earl'\n",
      " 'Paul, Ron' 'Santorum, Rick' 'Cain, Herman' 'Gingrich, Newt'\n",
      " 'McCotter, Thaddeus G' 'Huntsman, Jon' 'Perry, Rick']\n",
      "Obama, Barack\n",
      "123456    Obama, Barack\n",
      "123457    Obama, Barack\n",
      "123458    Obama, Barack\n",
      "123459    Obama, Barack\n",
      "123460    Obama, Barack\n",
      "Name: cand_nm, dtype: object\n",
      "123456    Democrat\n",
      "123457    Democrat\n",
      "123458    Democrat\n",
      "123459    Democrat\n",
      "123460    Democrat\n",
      "Name: cand_nm, dtype: object\n",
      "Democrat      593746\n",
      "Republican    407985\n",
      "Name: party, dtype: int64\n",
      "True     991475\n",
      "False     10256\n",
      "Name: contb_receipt_amt, dtype: int64\n"
     ]
    }
   ],
   "source": [
    "# Добавить в список информацию о кандидатах различных партий\n",
    "unique_cands=fec.cand_nm.unique()\n",
    "print(unique_cands)\n",
    "print(unique_cands[2])\n",
    "parties = {'Bachmann, Michelle': 'Republican',\n",
    "           'Cain, Herman': 'Republican',\n",
    "           'Gingrich, Newt': 'Republican',\n",
    "           'Huntsman, Jon': 'Republican',\n",
    "           'Johnson, Gary Earl': 'Republican',\n",
    "           'McCotter, Thaddeus G': 'Republican',\n",
    "           'Obama, Barack': 'Democrat',\n",
    "           'Paul, Ron': 'Republican',\n",
    "           'Pawlenty, Timothy': 'Republican',\n",
    "           'Perry, Rick': 'Republican',\n",
    "           \"Roemer, Charles E. 'Buddy' III\": 'Republican',\n",
    "           'Romney, Mitt': 'Republican',\n",
    "           'Santorum, Rick': 'Republican'}\n",
    "print(fec.cand_nm[123456:123461])\n",
    "print(fec.cand_nm[123456:123461].map(parties))\n",
    "fec['party']=fec.cand_nm.map(parties)\n",
    "print(fec['party'].value_counts())\n",
    "# Без возвратов\n",
    "print((fec.contb_receipt_amt>0).value_counts())\n",
    "fec=fec[fec.contb_receipt_amt>0]\n",
    "fec_mrbo=fec[fec.cand_nm.isin(['Obama, Barack','Romney, Mitt'])]"
   ]
  },
  {
   "cell_type": "code",
   "execution_count": 5,
   "metadata": {},
   "outputs": [
    {
     "name": "stdout",
     "output_type": "stream",
     "text": [
      "RETIRED                                   233990\n",
      "INFORMATION REQUESTED                      35107\n",
      "ATTORNEY                                   34286\n",
      "HOMEMAKER                                  29931\n",
      "PHYSICIAN                                  23432\n",
      "INFORMATION REQUESTED PER BEST EFFORTS     21138\n",
      "ENGINEER                                   14334\n",
      "TEACHER                                    13990\n",
      "CONSULTANT                                 13273\n",
      "PROFESSOR                                  12555\n",
      "Name: contbr_occupation, dtype: int64\n",
      "party                 Democrat    Republican\n",
      "contbr_occupation                           \n",
      "ATTORNEY           11141982.97  7.477194e+06\n",
      "CEO                 2074974.79  4.211041e+06\n",
      "CONSULTANT          2459912.71  2.544725e+06\n",
      "ENGINEER             951525.55  1.818374e+06\n",
      "EXECUTIVE           1355161.05  4.138850e+06\n",
      "HOMEMAKER           4248875.80  1.363428e+07\n",
      "INVESTOR             884133.00  2.431769e+06\n",
      "LAWYER              3160478.87  3.912243e+05\n",
      "MANAGER              762883.22  1.444532e+06\n",
      "NOT PROVIDED        4866973.96  2.056547e+07\n",
      "OWNER               1001567.36  2.408287e+06\n",
      "PHYSICIAN           3735124.94  3.594320e+06\n",
      "PRESIDENT           1878509.95  4.720924e+06\n",
      "PROFESSOR           2165071.08  2.967027e+05\n",
      "REAL ESTATE          528902.09  1.625902e+06\n",
      "RETIRED            25305116.38  2.356124e+07\n",
      "SELF-EMPLOYED        672393.40  1.640253e+06\n"
     ]
    },
    {
     "data": {
      "text/plain": [
       "<AxesSubplot:ylabel='contbr_occupation'>"
      ]
     },
     "execution_count": 5,
     "metadata": {},
     "output_type": "execute_result"
    },
    {
     "data": {
      "image/png": "[encoded data removed]",
      "text/plain": [
       "<Figure size 432x288 with 1 Axes>"
      ]
     },
     "metadata": {
      "needs_background": "light"
     },
     "output_type": "display_data"
    }
   ],
   "source": [
    "# Статистика пожертвований по роду занятий\n",
    "# Общая статистика по роду занятий\n",
    "print(fec.contbr_occupation.value_counts()[:10])\n",
    "# Очистка с отображением\n",
    "occ_mapping = {\n",
    "   'INFORMATION REQUESTED PER BEST EFFORTS' : 'NOT PROVIDED',\n",
    "   'INFORMATION REQUESTED' : 'NOT PROVIDED',\n",
    "   'INFORMATION REQUESTED (BEST EFFORTS)' : 'NOT PROVIDED',\n",
    "   'C.E.O.': 'CEO'\n",
    "}\n",
    "f=lambda x:occ_mapping.get(x,x)\n",
    "fec.contbr_occupation=fec.contbr_occupation.map(f)\n",
    "# Для мест работы\n",
    "emp_mapping = {\n",
    "   'INFORMATION REQUESTED PER BEST EFFORTS' : 'NOT PROVIDED',\n",
    "   'INFORMATION REQUESTED' : 'NOT PROVIDED',\n",
    "   'SELF' : 'SELF-EMPLOYED',\n",
    "   'SELF EMPLOYED' : 'SELF-EMPLOYED',\n",
    "}\n",
    "f=lambda x:emp_mapping.get(x,x)\n",
    "fec.contbr_employer=fec.contbr_employer.map(f)\n",
    "# Агрегирование по партиям и по роду занятий\n",
    "by_occupation=fec.pivot_table('contb_receipt_amt',\n",
    "                             index='contbr_occupation',\n",
    "                             columns='party',aggfunc='sum')\n",
    "over_2mm=by_occupation[by_occupation.sum(1)>2000000]\n",
    "print(over_2mm)\n",
    "over_2mm.plot(kind='barh')"
   ]
  },
  {
   "cell_type": "code",
   "execution_count": 6,
   "metadata": {},
   "outputs": [
    {
     "name": "stdout",
     "output_type": "stream",
     "text": [
      "cand_nm        contbr_occupation                     \n",
      "Obama, Barack  RETIRED                                   25305116.38\n",
      "               ATTORNEY                                  11141982.97\n",
      "               INFORMATION REQUESTED                      4866973.96\n",
      "               HOMEMAKER                                  4248875.80\n",
      "               PHYSICIAN                                  3735124.94\n",
      "               LAWYER                                     3160478.87\n",
      "               CONSULTANT                                 2459912.71\n",
      "Romney, Mitt   RETIRED                                   11508473.59\n",
      "               INFORMATION REQUESTED PER BEST EFFORTS    11396894.84\n",
      "               HOMEMAKER                                  8147446.22\n",
      "               ATTORNEY                                   5364718.82\n",
      "               PRESIDENT                                  2491244.89\n",
      "               EXECUTIVE                                  2300947.03\n",
      "               C.E.O.                                     1968386.11\n",
      "Name: contb_receipt_amt, dtype: float64\n",
      "cand_nm        contbr_employer                       \n",
      "Obama, Barack  RETIRED                                   22694358.85\n",
      "               SELF-EMPLOYED                             17080985.96\n",
      "               NOT EMPLOYED                               8586308.70\n",
      "               INFORMATION REQUESTED                      5053480.37\n",
      "               HOMEMAKER                                  2605408.54\n",
      "               SELF                                       1076531.20\n",
      "               SELF EMPLOYED                               469290.00\n",
      "               STUDENT                                     318831.45\n",
      "               VOLUNTEER                                   257104.00\n",
      "               MICROSOFT                                   215585.36\n",
      "Romney, Mitt   INFORMATION REQUESTED PER BEST EFFORTS    12059527.24\n",
      "               RETIRED                                   11506225.71\n",
      "               HOMEMAKER                                  8147196.22\n",
      "               SELF-EMPLOYED                              7409860.98\n",
      "               STUDENT                                     496490.94\n",
      "               CREDIT SUISSE                               281150.00\n",
      "               MORGAN STANLEY                              267266.00\n",
      "               GOLDMAN SACH & CO.                          238250.00\n",
      "               BARCLAYS CAPITAL                            162750.00\n",
      "               H.I.G. CAPITAL                              139500.00\n",
      "Name: contb_receipt_amt, dtype: float64\n"
     ]
    }
   ],
   "source": [
    "# Профессии самых щедрых жертвователей\n",
    "def get_top_amounts(group,key,n=5):\n",
    "    totals=group.groupby(key)['contb_receipt_amt'].sum()\n",
    "    return totals.nlargest(n)\n",
    "# Агрегация по роду занятий\n",
    "grouped=fec_mrbo.groupby('cand_nm')\n",
    "print(grouped.apply(get_top_amounts,'contbr_occupation',n=7))\n",
    "print(grouped.apply(get_top_amounts,'contbr_employer',n=10))"
   ]
  },
  {
   "cell_type": "code",
   "execution_count": 7,
   "metadata": {},
   "outputs": [
    {
     "name": "stdout",
     "output_type": "stream",
     "text": [
      "411         (10, 100]\n",
      "412       (100, 1000]\n",
      "413       (100, 1000]\n",
      "414         (10, 100]\n",
      "415         (10, 100]\n",
      "             ...     \n",
      "701381      (10, 100]\n",
      "701382    (100, 1000]\n",
      "701383        (1, 10]\n",
      "701384      (10, 100]\n",
      "701385    (100, 1000]\n",
      "Name: contb_receipt_amt, Length: 694282, dtype: category\n",
      "Categories (8, interval[int64]): [(0, 1] < (1, 10] < (10, 100] < (100, 1000] < (1000, 10000] < (10000, 100000] < (100000, 1000000] < (1000000, 10000000]]\n",
      "cand_nm              Obama, Barack  Romney, Mitt\n",
      "contb_receipt_amt                               \n",
      "(0, 1]                         493            77\n",
      "(1, 10]                      40070          3681\n",
      "(10, 100]                   372280         31853\n",
      "(100, 1000]                 153991         43357\n",
      "(1000, 10000]                22284         26186\n",
      "(10000, 100000]                  2             1\n",
      "(100000, 1000000]                3             0\n",
      "(1000000, 10000000]              4             0\n"
     ]
    }
   ],
   "source": [
    "# Распределение суммы пожертвований по интервалам\n",
    "import numpy as np\n",
    "bins=np.array([0,1,10,100,1000,10000,\n",
    "              100000,1000000,10000000])\n",
    "lables=pd.cut(fec_mrbo.contb_receipt_amt,bins)\n",
    "print(lables)\n",
    "# Гистограмма сумм пожертвований\n",
    "grouped=fec_mrbo.groupby(['cand_nm',lables])\n",
    "print(grouped.size().unstack(0))\n"
   ]
  },
  {
   "cell_type": "code",
   "execution_count": 8,
   "metadata": {},
   "outputs": [
    {
     "name": "stdout",
     "output_type": "stream",
     "text": [
      "cand_nm              Obama, Barack  Romney, Mitt\n",
      "contb_receipt_amt                               \n",
      "(0, 1]                    0.805182      0.194818\n",
      "(1, 10]                   0.918767      0.081233\n",
      "(10, 100]                 0.910769      0.089231\n",
      "(100, 1000]               0.710176      0.289824\n",
      "(1000, 10000]             0.447326      0.552674\n",
      "(10000, 100000]           0.823120      0.176880\n",
      "(100000, 1000000]         1.000000           NaN\n",
      "(1000000, 10000000]       1.000000           NaN\n"
     ]
    },
    {
     "data": {
      "text/plain": [
       "<AxesSubplot:ylabel='contb_receipt_amt'>"
      ]
     },
     "execution_count": 8,
     "metadata": {},
     "output_type": "execute_result"
    },
    {
     "data": {
      "image/png": "[encoded data removed]",
      "text/plain": [
       "<Figure size 432x288 with 1 Axes>"
      ]
     },
     "metadata": {
      "needs_background": "light"
     },
     "output_type": "display_data"
    }
   ],
   "source": [
    "# Процентная доля пожертвований\n",
    "bucket_sums=grouped.contb_receipt_amt.sum().unstack(0)\n",
    "normed_sums=bucket_sums.div(bucket_sums.sum(axis=1),axis=0)\n",
    "print(normed_sums)\n",
    "normed_sums[:-2].plot(kind='barh')"
   ]
  },
  {
   "cell_type": "code",
   "execution_count": 9,
   "metadata": {},
   "outputs": [
    {
     "name": "stdout",
     "output_type": "stream",
     "text": [
      "cand_nm    Obama, Barack  Romney, Mitt\n",
      "contbr_st                             \n",
      "AK             281840.15      86204.24\n",
      "AL             543123.48     527303.51\n",
      "AR             359247.28     105556.00\n",
      "AZ            1506476.98    1888436.23\n",
      "CA           23824984.24   11237636.60\n",
      "CO            2132429.49    1506714.12\n",
      "CT            2068291.26    3499475.45\n",
      "DC            4373538.80    1025137.50\n",
      "DE             336669.14      82712.00\n",
      "FL            7318178.58    8338458.81\n",
      "cand_nm    Obama, Barack  Romney, Mitt\n",
      "contbr_st                             \n",
      "AK              0.765778      0.234222\n",
      "AL              0.507390      0.492610\n",
      "AR              0.772902      0.227098\n",
      "AZ              0.443745      0.556255\n",
      "CA              0.679498      0.320502\n",
      "CO              0.585970      0.414030\n",
      "CT              0.371476      0.628524\n",
      "DC              0.810113      0.189887\n",
      "DE              0.802776      0.197224\n",
      "FL              0.467417      0.532583\n"
     ]
    },
    {
     "data": {
      "text/plain": [
       "<AxesSubplot:ylabel='contbr_st'>"
      ]
     },
     "execution_count": 9,
     "metadata": {},
     "output_type": "execute_result"
    },
    {
     "data": {
      "image/png": "[encoded data removed]",
      "text/plain": [
       "<Figure size 432x288 with 1 Axes>"
      ]
     },
     "metadata": {
      "needs_background": "light"
     },
     "output_type": "display_data"
    }
   ],
   "source": [
    "# Статистика пожертвований по штатам\n",
    "grouped=fec_mrbo.groupby(['cand_nm','contbr_st'])\n",
    "totals=grouped.contb_receipt_amt.sum().unstack(0).fillna(0)\n",
    "totals=totals[totals.sum(1)>100000]\n",
    "print(totals[:10])\n",
    "percent=totals.div(totals.sum(1),axis=0)\n",
    "print(percent[:10])\n",
    "percent[:10].plot(kind='barh')"
   ]
  },
  {
   "cell_type": "code",
   "execution_count": null,
   "metadata": {},
   "outputs": [],
   "source": []
  }
 ],
 "metadata": {
  "kernelspec": {
   "display_name": "Python 3",
   "language": "python",
   "name": "python3"
  },
  "language_info": {
   "codemirror_mode": {
    "name": "ipython",
    "version": 3
   },
   "file_extension": ".py",
   "mimetype": "text/x-python",
   "name": "python",
   "nbconvert_exporter": "python",
   "pygments_lexer": "ipython3",
   "version": "3.8.5"
  }
 },
 "nbformat": 4,
 "nbformat_minor": 4
}
