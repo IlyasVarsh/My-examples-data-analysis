{
 "cells": [
  {
   "cell_type": "code",
   "execution_count": 1,
   "metadata": {},
   "outputs": [],
   "source": [
    "# Набор данных MovieLens 1M\n",
    "import pandas as pd\n",
    "pd.options.display.max_rows=10 # Уменьшить объём вывода\n",
    "unames=['user_id','gender','age','occupation','zip']\n",
    "users=pd.read_table(r'datasets/movielens/users.dat',sep='::',header=None,\n",
    "                   names=unames, engine = 'python')\n",
    "rnames=['user_id','movie_id','rating','timestamp']\n",
    "ratings=pd.read_table(r'datasets/movielens/ratings.dat',sep='::',header=None,\n",
    "                     names=rnames, engine = 'python')\n",
    "mnames=['movie_id','title','genres']\n",
    "movies=pd.read_table(r'datasets/movielens/movies.dat',sep='::',header=None,\n",
    "                    names=mnames, engine = 'python')"
   ]
  },
  {
   "cell_type": "code",
   "execution_count": 2,
   "metadata": {},
   "outputs": [
    {
     "name": "stdout",
     "output_type": "stream",
     "text": [
      "gender                                                     F         M\n",
      "title                                                                 \n",
      "Close Shave, A (1995)                               4.644444  4.473795\n",
      "Wrong Trousers, The (1993)                          4.588235  4.478261\n",
      "Sunset Blvd. (a.k.a. Sunset Boulevard) (1950)       4.572650  4.464589\n",
      "Wallace & Gromit: The Best of Aardman Animation...  4.563107  4.385075\n",
      "Schindler's List (1993)                             4.562602  4.491415\n",
      "Shawshank Redemption, The (1994)                    4.539075  4.560625\n",
      "Grand Day Out, A (1992)                             4.537879  4.293255\n",
      "To Kill a Mockingbird (1962)                        4.536667  4.372611\n",
      "Creature Comforts (1990)                            4.513889  4.272277\n",
      "Usual Suspects, The (1995)                          4.513317  4.518248\n"
     ]
    }
   ],
   "source": [
    "# Объединить таблицы\n",
    "data=pd.merge(pd.merge(ratings,users),movies)\n",
    "# Средние рейтинги каждого пола\n",
    "mean_ratings=data.pivot_table('rating',index='title',\n",
    "                             columns='gender',aggfunc='mean')\n",
    "# Отобрать фильмы получившие не менее 250 оценок\n",
    "ratings_by_title=data.groupby('title').size()\n",
    "active_titles=ratings_by_title.index[ratings_by_title>=250]\n",
    "# Отобрать соответствующие строки\n",
    "mean_ratings=mean_ratings.loc[active_titles]\n",
    "# Найти фильмы наиболее рейтинговые для женщин\n",
    "top_female_ratings=mean_ratings.sort_values(by='F', ascending=False)\n",
    "print(top_female_ratings[:10])"
   ]
  },
  {
   "cell_type": "code",
   "execution_count": 3,
   "metadata": {},
   "outputs": [
    {
     "name": "stdout",
     "output_type": "stream",
     "text": [
      "gender                                        F         M      diff\n",
      "title                                                              \n",
      "Dirty Dancing (1987)                   3.790378  2.959596 -0.830782\n",
      "Jumpin' Jack Flash (1986)              3.254717  2.578358 -0.676359\n",
      "Grease (1978)                          3.975265  3.367041 -0.608224\n",
      "Little Women (1994)                    3.870588  3.321739 -0.548849\n",
      "Steel Magnolias (1989)                 3.901734  3.365957 -0.535777\n",
      "Anastasia (1997)                       3.800000  3.281609 -0.518391\n",
      "Rocky Horror Picture Show, The (1975)  3.673016  3.160131 -0.512885\n",
      "Color Purple, The (1985)               4.158192  3.659341 -0.498851\n",
      "Age of Innocence, The (1993)           3.827068  3.339506 -0.487561\n",
      "Free Willy (1993)                      2.921348  2.438776 -0.482573\n"
     ]
    }
   ],
   "source": [
    "# Расчёт несогласия в оценках\n",
    "mean_ratings['diff']=mean_ratings['M']-mean_ratings['F']\n",
    "sorted_by_diff=mean_ratings.sort_values(by='diff')\n",
    "print(sorted_by_diff[:10])"
   ]
  },
  {
   "cell_type": "code",
   "execution_count": 4,
   "metadata": {},
   "outputs": [
    {
     "name": "stdout",
     "output_type": "stream",
     "text": [
      "gender                                    F         M      diff\n",
      "title                                                          \n",
      "'burbs, The (1989)                 2.793478  2.962085  0.168607\n",
      "10 Things I Hate About You (1999)  3.646552  3.311966 -0.334586\n",
      "101 Dalmatians (1961)              3.791444  3.500000 -0.291444\n",
      "101 Dalmatians (1996)              3.240000  2.911215 -0.328785\n",
      "12 Angry Men (1957)                4.184397  4.328421  0.144024\n",
      "...                                     ...       ...       ...\n",
      "Young Guns (1988)                  3.371795  3.425620  0.053825\n",
      "Young Guns II (1990)               2.934783  2.904025 -0.030758\n",
      "Young Sherlock Holmes (1985)       3.514706  3.363344 -0.151362\n",
      "Zero Effect (1998)                 3.864407  3.723140 -0.141266\n",
      "eXistenZ (1999)                    3.098592  3.289086  0.190494\n",
      "\n",
      "[1216 rows x 3 columns]\n"
     ]
    }
   ],
   "source": [
    "print(mean_ratings)"
   ]
  },
  {
   "cell_type": "code",
   "execution_count": 5,
   "metadata": {},
   "outputs": [
    {
     "name": "stdout",
     "output_type": "stream",
     "text": [
      "gender                                         F         M      diff\n",
      "title                                                               \n",
      "Good, The Bad and The Ugly, The (1966)  3.494949  4.221300  0.726351\n",
      "Kentucky Fried Movie, The (1977)        2.878788  3.555147  0.676359\n",
      "Dumb & Dumber (1994)                    2.697987  3.336595  0.638608\n",
      "Longest Day, The (1962)                 3.411765  4.031447  0.619682\n",
      "Cable Guy, The (1996)                   2.250000  2.863787  0.613787\n",
      "Evil Dead II (Dead By Dawn) (1987)      3.297297  3.909283  0.611985\n",
      "Hidden, The (1987)                      3.137931  3.745098  0.607167\n",
      "Rocky III (1982)                        2.361702  2.943503  0.581801\n",
      "Caddyshack (1980)                       3.396135  3.969737  0.573602\n",
      "For a Few Dollars More (1965)           3.409091  3.953795  0.544704\n"
     ]
    }
   ],
   "source": [
    "# Фильмы которым мужчины поставили более высокие оценки чем женщины\n",
    "print(sorted_by_diff[::-1][:10])"
   ]
  },
  {
   "cell_type": "code",
   "execution_count": 13,
   "metadata": {},
   "outputs": [
    {
     "data": {
      "text/plain": [
       "title\n",
       "Dumb & Dumber (1994)                     1.321333\n",
       "Blair Witch Project, The (1999)          1.316368\n",
       "Natural Born Killers (1994)              1.307198\n",
       "Tank Girl (1995)                         1.277695\n",
       "Rocky Horror Picture Show, The (1975)    1.260177\n",
       "Eyes Wide Shut (1999)                    1.259624\n",
       "Evita (1996)                             1.253631\n",
       "Billy Madison (1995)                     1.249970\n",
       "Fear and Loathing in Las Vegas (1998)    1.246408\n",
       "Bicentennial Man (1999)                  1.245533\n",
       "Name: rating, dtype: float64"
      ]
     },
     "execution_count": 13,
     "metadata": {},
     "output_type": "execute_result"
    }
   ],
   "source": [
    "# Наибольшее разногласие\n",
    "rating_std_by_title=data.groupby('title')['rating'].std()\n",
    "rating_std_by_title=rating_std_by_title.loc[active_titles]\n",
    "rating_std_by_title.sort_values(ascending=False)[:10]"
   ]
  },
  {
   "cell_type": "code",
   "execution_count": 19,
   "metadata": {},
   "outputs": [
    {
     "data": {
      "text/plain": [
       "[Text(0.5, 0, 'Ratings std'), Text(0, 0.5, 'Movies')]"
      ]
     },
     "execution_count": 19,
     "metadata": {},
     "output_type": "execute_result"
    },
    {
     "data": {
      "image/png": "[encoded data removed]",
      "text/plain": [
       "<Figure size 432x288 with 1 Axes>"
      ]
     },
     "metadata": {
      "needs_background": "light"
     },
     "output_type": "display_data"
    }
   ],
   "source": [
    "import seaborn as sns\n",
    "subset=rating_std_by_title.sort_values(ascending=False)[:10]\n",
    "ax=sns.barplot(y=subset.index, x=subset.values)\n",
    "ax.set(xlabel=\"Ratings std\", ylabel = \"Movies\")"
   ]
  },
  {
   "cell_type": "code",
   "execution_count": null,
   "metadata": {},
   "outputs": [],
   "source": []
  }
 ],
 "metadata": {
  "kernelspec": {
   "display_name": "Python 3",
   "language": "python",
   "name": "python3"
  },
  "language_info": {
   "codemirror_mode": {
    "name": "ipython",
    "version": 3
   },
   "file_extension": ".py",
   "mimetype": "text/x-python",
   "name": "python",
   "nbconvert_exporter": "python",
   "pygments_lexer": "ipython3",
   "version": "3.8.5"
  }
 },
 "nbformat": 4,
 "nbformat_minor": 4
}
